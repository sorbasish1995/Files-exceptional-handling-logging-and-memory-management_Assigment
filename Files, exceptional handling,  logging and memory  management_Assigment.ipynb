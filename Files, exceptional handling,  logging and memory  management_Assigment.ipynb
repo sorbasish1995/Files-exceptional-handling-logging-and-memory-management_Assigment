{
 "cells": [
  {
   "cell_type": "markdown",
   "id": "7039920f-7518-479a-aea8-f2fe2aee2f5a",
   "metadata": {},
   "source": [
    "### Practical Questions:"
   ]
  },
  {
   "cell_type": "code",
   "execution_count": null,
   "id": "5741b60a-bbcb-439f-ad32-43a068b9bf7c",
   "metadata": {},
   "outputs": [],
   "source": [
    "# 1. How can you open a file for writing in Python and write a string to it?\n",
    "\n",
    "# We can open a file in write mode using the open() function with 'w' mode, \n",
    "# and then use the write() method to add text.\n",
    "\n",
    "with open(\"example.txt\", \"w\") as file:\n",
    "    file.write(\"Hello, this is my first file write in Python!\")"
   ]
  },
  {
   "cell_type": "code",
   "execution_count": null,
   "id": "3a3356a2-c26d-4a69-9232-eb48c1ad1905",
   "metadata": {},
   "outputs": [],
   "source": [
    "# Write a Python program to read the contents of a file and print each line?\n",
    "\n",
    "# We use \"r\" mode to read the file, and strip() to remove any extra newlines or spaces at the ends.\n",
    "\n",
    "with open(\"example.txt\", \"r\") as file:\n",
    "    for line in file:\n",
    "        print(line.strip())\n"
   ]
  },
  {
   "cell_type": "code",
   "execution_count": 1,
   "id": "cc3453ce-6d59-4f60-9837-edfc05f20686",
   "metadata": {},
   "outputs": [
    {
     "name": "stdout",
     "output_type": "stream",
     "text": [
      "The file does not exist.\n"
     ]
    }
   ],
   "source": [
    "#How would you handle a case where the file doesn't exist while trying to open it for reading?\n",
    "\n",
    "try:\n",
    "    with open(\"non_existing_file.txt\", \"r\") as file:\n",
    "        print(file.read())\n",
    "except FileNotFoundError:\n",
    "    print(\"The file does not exist.\")"
   ]
  },
  {
   "cell_type": "code",
   "execution_count": 3,
   "id": "6fd49980-5e14-4540-90c0-3d96374d67c6",
   "metadata": {},
   "outputs": [],
   "source": [
    "# Write a Python script that reads from one file and writes its content to another file?\n",
    "\n",
    "# We first read everything from source.txt and then write it into destination.txt.\n",
    "\n",
    "with open(\"source.txt\", \"r\") as source_file:\n",
    "    content = source_file.read()\n",
    "\n",
    "with open(\"destination.txt\", \"w\") as dest_file:\n",
    "    dest_file.write(content)\n"
   ]
  },
  {
   "cell_type": "code",
   "execution_count": 4,
   "id": "386dcecb-c409-475a-8a9d-c88d0ea1369b",
   "metadata": {},
   "outputs": [
    {
     "name": "stdout",
     "output_type": "stream",
     "text": [
      "We can't divide a number by zero.\n"
     ]
    }
   ],
   "source": [
    "# How would you catch and handle division by zero error in Python?\n",
    "\n",
    "#This prevents the program from crashing and gives us a friendly message instead.\n",
    "\n",
    "try:\n",
    "    result = 10 / 0\n",
    "except ZeroDivisionError:\n",
    "    print(\"We can't divide a number by zero.\")"
   ]
  },
  {
   "cell_type": "code",
   "execution_count": 5,
   "id": "d2ce8925-62f1-4b16-8a0b-93a1db50bf79",
   "metadata": {},
   "outputs": [],
   "source": [
    "# Write a Python program that logs an error message to a log file when a division by zero exception occurs?\n",
    "\n",
    "import logging\n",
    "\n",
    "logging.basicConfig(filename='error.log', level=logging.INFO)\n",
    "\n",
    "try:\n",
    "    result = 10 / 0\n",
    "except ZeroDivisionError as e:\n",
    "    logging.error(f\"Division by zero error occurred: {e}\")\n"
   ]
  },
  {
   "cell_type": "code",
   "execution_count": null,
   "id": "45514878-6a67-42bb-9186-a078a74a6f7c",
   "metadata": {},
   "outputs": [],
   "source": [
    "# How do you log information at different levels (INFO, ERROR, WARNING) in Python using the logging module?\n",
    "\n",
    "# We can log messages at different levels using logging.info(), logging.warning(), and logging.error().\n",
    "# Each line logs a message at a different level, and they all get saved in app.log.\n",
    "\n",
    "import logging\n",
    "\n",
    "logging.basicConfig(filename='app.log', level=logging.DEBUG)\n",
    "\n",
    "logging.info(\"This is an info message.\")\n",
    "logging.warning(\"This is a warning message.\")\n",
    "logging.error(\"This is an error message.\")\n"
   ]
  },
  {
   "cell_type": "code",
   "execution_count": null,
   "id": "856a5aa3-ccb5-43e7-a55d-fe8084a9dbc6",
   "metadata": {},
   "outputs": [],
   "source": [
    "# Write a program to handle a file opening error using exception handling?\n",
    "\n",
    "# This way, if the file doesn't exist, we get a clear message instead of a crash.\n",
    "try:\n",
    "    with open(\"data1.txt\", \"r\") as file:\n",
    "        print(file.read())\n",
    "except FileNotFoundError:\n",
    "    print(\"File not found. Please check the filename or path.\")"
   ]
  },
  {
   "cell_type": "code",
   "execution_count": null,
   "id": "fe052e68-c637-49b0-85ba-9065c1be1759",
   "metadata": {},
   "outputs": [],
   "source": [
    "# How can you read a file line by line and store its content in a list in Python?\n",
    "\n",
    "# This reads each line from the file and stores it as an element in the list lines. \n",
    "# The strip() method removes any extra newline characters.\n",
    "\n",
    "lines = []\n",
    "with open(\"example.txt\", \"r\") as file:\n",
    "    lines = file.readlines()\n",
    "\n",
    "# Optionally, strip newline characters\n",
    "lines = [line.strip() for line in lines]\n",
    "\n",
    "print(lines)"
   ]
  },
  {
   "cell_type": "code",
   "execution_count": null,
   "id": "9255faef-973b-4126-a588-a6bd44848ea7",
   "metadata": {},
   "outputs": [],
   "source": [
    "# How can you append data to an existing file in Python?\n",
    "\n",
    "# We can append data to an existing file by opening it in 'a' mode. Here's how we can do it\n",
    "# Using 'a' mode ensures that the new content is added to the end of the file without overwriting the existing data.\n",
    "\n",
    "with open(\"example.txt\", \"a\") as file:\n",
    "    file.write(\"This is the new data being appended.\\n\")"
   ]
  },
  {
   "cell_type": "code",
   "execution_count": null,
   "id": "3bd31d2a-c236-4091-97da-5f8078e0686a",
   "metadata": {},
   "outputs": [],
   "source": [
    "# Write a Python program that uses a try-except block to handle an error when attempting to access a \n",
    "# dictionary key that doesn't exist ?\n",
    "\n",
    "my_dict = {\"name\": \"John\", \"age\": 25}\n",
    "\n",
    "try:\n",
    "    print(my_dict[\"address\"])\n",
    "except KeyError:\n",
    "    print(\"The key 'address' does not exist in the dictionary.\")  "
   ]
  },
  {
   "cell_type": "code",
   "execution_count": 8,
   "id": "2a8066fd-9c36-4820-a7cd-23453d6b0d17",
   "metadata": {},
   "outputs": [
    {
     "name": "stdout",
     "output_type": "stream",
     "text": [
      "Caught a ValueError: Invalid conversion from string to int.\n"
     ]
    }
   ],
   "source": [
    "#  Write a program that demonstrates using multiple except blocks to handle different types of exceptions?\n",
    "\n",
    "try:\n",
    "    # Trigger ValueError\n",
    "    num = int(\"abc\")  # Can't convert string to int\n",
    "\n",
    "    # Trigger ZeroDivisionError\n",
    "    result = 10 / 0\n",
    "\n",
    "    # Trigger KeyError\n",
    "    my_dict = {\"name\": \"Alice\"}\n",
    "    print(my_dict[\"age\"])\n",
    "    \n",
    "except ValueError:\n",
    "    print(\"Caught a ValueError: Invalid conversion from string to int.\")\n",
    "\n",
    "except ZeroDivisionError:\n",
    "    print(\"Caught a ZeroDivisionError: Division by zero is not allowed.\")\n",
    "\n",
    "except KeyError:\n",
    "    print(\"Caught a KeyError: Key not found in dictionary.\")\n",
    "\n",
    "\n",
    "# First, run the code as is → it will hit the ValueError.\n",
    "\n",
    "# Then comment out num = int(\"abc\") and uncomment result = 10 / 0 → it will hit ZeroDivisionError.\n",
    "\n",
    "# Then comment out both above lines and uncomment the dictionary line → it will hit KeyError."
   ]
  },
  {
   "cell_type": "code",
   "execution_count": 9,
   "id": "e04850cb-df62-447c-914c-4a4438211ceb",
   "metadata": {},
   "outputs": [
    {
     "name": "stdout",
     "output_type": "stream",
     "text": [
      "File does not exist.\n"
     ]
    }
   ],
   "source": [
    "# How would you check if a file exists before attempting to read it in Python?\n",
    "\n",
    "\n",
    "# We can use the os.path.exists() function to check if a file exists before reading it. Here's how we can do it\n",
    "# This prevents errors by checking first before trying to open the file.\n",
    "import os\n",
    "\n",
    "file_path = \"example.txt\"\n",
    "\n",
    "if os.path.exists(file_path):\n",
    "    with open(file_path, \"r\") as file:\n",
    "        print(file.read())\n",
    "else:\n",
    "    print(\"File does not exist.\")"
   ]
  },
  {
   "cell_type": "code",
   "execution_count": 21,
   "id": "dbf459c6-a12c-4c45-baaf-669075d42992",
   "metadata": {},
   "outputs": [
    {
     "name": "stdout",
     "output_type": "stream",
     "text": [
      "Current working directory: C:\\Users\\sorbasish\\Desktop\\Python_juputer\n"
     ]
    }
   ],
   "source": [
    "import os\n",
    "print(\"Current working directory:\", os.getcwd())"
   ]
  },
  {
   "cell_type": "code",
   "execution_count": 23,
   "id": "5a2e2658-54f4-4298-be02-70548732d463",
   "metadata": {},
   "outputs": [
    {
     "name": "stdout",
     "output_type": "stream",
     "text": [
      "Current working directory: C:\\Users\\sorbasish\\Desktop\\Python_juputer\n",
      "The error message is: division by zero\n"
     ]
    }
   ],
   "source": [
    "# Write a program that uses the logging module to log both informational and error messages?\n",
    "\n",
    "import logging\n",
    "import os\n",
    "\n",
    "# Show where the file should be created\n",
    "print(\"Current working directory:\", os.getcwd())\n",
    "\n",
    "# Reset any previous handlers\n",
    "for handler in logging.root.handlers[:]:\n",
    "    logging.root.removeHandler(handler)\n",
    "\n",
    "# Setup logging configuration\n",
    "logging.basicConfig(\n",
    "    filename=\"app.log\",\n",
    "    level=logging.DEBUG,\n",
    "    format='%(asctime)s - %(levelname)s - %(message)s'\n",
    ")\n",
    "\n",
    "logging.info(\"Code has been started\")\n",
    "\n",
    "try:\n",
    "    # Intentional division by zero to trigger an error\n",
    "    num = 10 / 0\n",
    "    print(num)\n",
    "except Exception as e:\n",
    "    # Log the error and print it\n",
    "    logging.error(f\"The error message is: {e}\")\n",
    "    print(f\"The error message is: {e}\")\n",
    "\n",
    "# Force log to flush and close the handlers\n",
    "for handler in logging.root.handlers:\n",
    "    handler.flush()\n",
    "    handler.close()\n"
   ]
  },
  {
   "cell_type": "code",
   "execution_count": 24,
   "id": "62e381ae-7b76-496c-a47a-97aa81a40b2f",
   "metadata": {},
   "outputs": [
    {
     "name": "stdout",
     "output_type": "stream",
     "text": [
      "The file does not exist.\n"
     ]
    }
   ],
   "source": [
    "# Write a Python program that prints the content of a file and handles the case when the file is empty?\n",
    "\n",
    "try:\n",
    "    with open(\"example.txt\", \"r\") as file:\n",
    "        content = file.read()\n",
    "        if content.strip() == \"\":\n",
    "            print(\"The file is empty.\")\n",
    "        else:\n",
    "            print(\"File content:\")\n",
    "            print(content)\n",
    "except FileNotFoundError:\n",
    "    print(\"The file does not exist.\")\n",
    "\n",
    "#Tries to open example.txt.\n",
    "\n",
    "#Reads and checks if the content is empty (ignoring whitespace).\n",
    "\n",
    "#Prints the content or a message saying it’s empty.\n",
    "\n",
    "#Also handles the case where the file doesn't exist."
   ]
  },
  {
   "cell_type": "code",
   "execution_count": 25,
   "id": "396618d9-5bc9-4feb-a06c-0a774e53e107",
   "metadata": {},
   "outputs": [],
   "source": [
    "#Demonstrate how to use memory profiling to check the memory usage of a small program?"
   ]
  },
  {
   "cell_type": "code",
   "execution_count": 26,
   "id": "86504035-9993-42ee-897e-fb7d15b59ad1",
   "metadata": {},
   "outputs": [
    {
     "name": "stdout",
     "output_type": "stream",
     "text": [
      "Collecting memory-profiler\n",
      "  Downloading memory_profiler-0.61.0-py3-none-any.whl.metadata (20 kB)\n",
      "Requirement already satisfied: psutil in c:\\users\\sorbasish\\appdata\\local\\programs\\python\\python313\\lib\\site-packages (from memory-profiler) (7.0.0)\n",
      "Downloading memory_profiler-0.61.0-py3-none-any.whl (31 kB)\n",
      "Installing collected packages: memory-profiler\n",
      "Successfully installed memory-profiler-0.61.0\n"
     ]
    },
    {
     "name": "stderr",
     "output_type": "stream",
     "text": [
      "\n",
      "[notice] A new release of pip is available: 25.0.1 -> 25.1.1\n",
      "[notice] To update, run: python.exe -m pip install --upgrade pip\n"
     ]
    }
   ],
   "source": [
    "!pip install memory-profiler"
   ]
  },
  {
   "cell_type": "code",
   "execution_count": 27,
   "id": "e5c84d83-633e-43d4-a061-8e9a25b51901",
   "metadata": {},
   "outputs": [],
   "source": [
    "%load_ext memory_profiler"
   ]
  },
  {
   "cell_type": "code",
   "execution_count": 28,
   "id": "f869fb71-18a9-4c6a-944a-2c5a2d698e9e",
   "metadata": {},
   "outputs": [
    {
     "name": "stdout",
     "output_type": "stream",
     "text": [
      "peak memory: 81.12 MiB, increment: 3.26 MiB\n"
     ]
    }
   ],
   "source": [
    "%memit my_list = [i for i in range(100000)]"
   ]
  },
  {
   "cell_type": "code",
   "execution_count": 29,
   "id": "67881214-e138-43e8-9bf0-417af4064e44",
   "metadata": {},
   "outputs": [],
   "source": [
    "# Using %memit, we observed that creating a list of 100,000 integers consumed approximately 3.26 MiB of memory. \n",
    "#This helps us understand how list comprehensions scale in terms of memory usage."
   ]
  },
  {
   "cell_type": "code",
   "execution_count": 30,
   "id": "ecbcab29-6b70-4b0c-b017-a24f9118fee0",
   "metadata": {},
   "outputs": [
    {
     "name": "stdout",
     "output_type": "stream",
     "text": [
      "peak memory: 85.64 MiB, increment: 4.52 MiB\n"
     ]
    }
   ],
   "source": [
    "%%memit\n",
    "my_list = [i for i in range(100000)]\n",
    "squared = [i**2 for i in my_list]\n"
   ]
  },
  {
   "cell_type": "code",
   "execution_count": 31,
   "id": "33e09247-9cbf-47ff-9a2b-4d022135361b",
   "metadata": {},
   "outputs": [
    {
     "name": "stdout",
     "output_type": "stream",
     "text": [
      "Numbers written to file successfully.\n"
     ]
    }
   ],
   "source": [
    "# Write a Python program to create and write a list of numbers to a file, one number per line?\n",
    "\n",
    "numbers = [1, 2, 3, 4, 5]\n",
    "\n",
    "with open(\"numbers.txt\", \"w\") as file:\n",
    "    for number in numbers:\n",
    "        file.write(f\"{number}\\n\")\n",
    "\n",
    "print(\"Numbers written to file successfully.\")"
   ]
  },
  {
   "cell_type": "code",
   "execution_count": 39,
   "id": "f542e07e-dc53-48f7-866c-31dad879c777",
   "metadata": {},
   "outputs": [
    {
     "name": "stdout",
     "output_type": "stream",
     "text": [
      "Log messages are being written and rotated after 1MB.\n"
     ]
    }
   ],
   "source": [
    "# How would you implement a basic logging setup that logs to a file with rotation after 1MB?\n",
    "\n",
    "import logging\n",
    "from logging.handlers import RotatingFileHandler\n",
    "\n",
    "# Create a handler to manage log file rotation\n",
    "handler = RotatingFileHandler(\"Rotating_app.log\", maxBytes=1000000, backupCount=3)\n",
    "\n",
    "# Creating a simple log format (date, log level, message)\n",
    "formatter = logging.Formatter('%(asctime)s - %(levelname)s - %(message)s')\n",
    "handler.setFormatter(formatter)\n",
    "\n",
    "# Setting up the logging system\n",
    "#logging.basicConfig(level=logging.DEBUG, handlers=[handler])\n",
    "                   \n",
    "                     #or\n",
    "\n",
    "# Setting up the logging system manually\n",
    "logging.getLogger().setLevel(logging.DEBUG)\n",
    "logging.getLogger().addHandler(handler)\n",
    "\n",
    "# Now, writing some log messages to the file\n",
    "for i in range(10000):\n",
    "    logging.info(f\"This is log message number {i}\")\n",
    "\n",
    "print(\"Log messages are being written and rotated after 1MB.\")\n"
   ]
  },
  {
   "cell_type": "code",
   "execution_count": 40,
   "id": "88cd2e44-5a1d-4f4d-be5e-aaf8ed3d520f",
   "metadata": {},
   "outputs": [
    {
     "name": "stdout",
     "output_type": "stream",
     "text": [
      "Deleted: Rotating_app.log\n"
     ]
    }
   ],
   "source": [
    "import os\n",
    "import logging\n",
    "\n",
    "# First, remove and close all handlers\n",
    "for handler in logging.root.handlers[:]:\n",
    "    logging.root.removeHandler(handler)\n",
    "    handler.flush()\n",
    "    handler.close()\n",
    "\n",
    "# Now safely delete log files\n",
    "log_files = [\"Rotating_app.log\"]\n",
    "\n",
    "for file in log_files:\n",
    "    if os.path.exists(file):\n",
    "        os.remove(file)\n",
    "        print(f\"Deleted: {file}\")\n",
    "    else:\n",
    "        print(f\"File not found: {file}\")\n"
   ]
  },
  {
   "cell_type": "code",
   "execution_count": 42,
   "id": "09ca9685-9c67-4df5-ab35-7991581e9e24",
   "metadata": {},
   "outputs": [
    {
     "name": "stdout",
     "output_type": "stream",
     "text": [
      "IndexError: Tried to access an index that doesn't exist in the list.\n"
     ]
    }
   ],
   "source": [
    "# Write a program that handles both IndexError and KeyError using a try-except block?\n",
    "\n",
    "my_list = [10, 20, 30]\n",
    "my_dict = {\"name\": \"Sorbasish\", \"age\": 25}\n",
    "\n",
    "try:\n",
    "    # Trying to access an invalid index\n",
    "    print(my_list[5])\n",
    "\n",
    "    # Trying to access a missing key\n",
    "    print(my_dict[\"gender\"])\n",
    "\n",
    "except IndexError:\n",
    "    print(\"IndexError: Tried to access an index that doesn't exist in the list.\")\n",
    "\n",
    "except KeyError:\n",
    "    print(\"KeyError: Tried to access a key that doesn't exist in the dictionary.\")"
   ]
  },
  {
   "cell_type": "code",
   "execution_count": 45,
   "id": "e9fcda35-345d-4a22-8109-bb96c94f5607",
   "metadata": {},
   "outputs": [
    {
     "name": "stdout",
     "output_type": "stream",
     "text": [
      "PWSKILLS is awasome\n"
     ]
    }
   ],
   "source": [
    "# How would you open a file and read its contents using a context manager in Python?\n",
    "\n",
    "with open(\"example.txt\", \"w\") as file:\n",
    "    file.write(\"PWSKILLS is awasome\")\n",
    "\n",
    "\n",
    "with open(\"example.txt\", \"r\") as file:\n",
    "    content = file.read()\n",
    "    print(content)"
   ]
  },
  {
   "cell_type": "code",
   "execution_count": 46,
   "id": "2e798d85-198e-45df-89b4-77146cab7185",
   "metadata": {},
   "outputs": [
    {
     "name": "stdout",
     "output_type": "stream",
     "text": [
      "The word 'data' occurred 0 times in the file.\n"
     ]
    }
   ],
   "source": [
    "# Write a Python program that reads a file and prints the number of occurrences of a specific word?\n",
    "\n",
    "# Ask for the file name and the word we want to count\n",
    "filename = \"example.txt\"\n",
    "word_to_count = \"data\"\n",
    "\n",
    "try:\n",
    "    with open(filename, \"r\") as file:\n",
    "        content = file.read()\n",
    "        \n",
    "        # Convert content and word to lowercase\n",
    "        content = content.lower()\n",
    "        word_to_count = word_to_count.lower()\n",
    "\n",
    "        # Count the word manually using a loop\n",
    "        word_count = 0\n",
    "        for word in content.split():\n",
    "            if word == word_to_count:\n",
    "                word_count += 1\n",
    "\n",
    "        print(f\"The word '{word_to_count}' occurred {word_count} times in the file.\")\n",
    "\n",
    "except FileNotFoundError:\n",
    "    print(f\"File '{filename}' not found.\")"
   ]
  },
  {
   "cell_type": "code",
   "execution_count": 47,
   "id": "aade5819-f9fe-4711-84af-8b1382801840",
   "metadata": {},
   "outputs": [
    {
     "name": "stdout",
     "output_type": "stream",
     "text": [
      "File content:\n",
      " PWSKILLS is awasome\n"
     ]
    }
   ],
   "source": [
    "# How can you check if a file is empty before attempting to read its contents?\n",
    "\n",
    "import os\n",
    "\n",
    "filename = \"example.txt\"\n",
    "\n",
    "if os.path.exists(filename):\n",
    "    if os.path.getsize(filename) == 0:\n",
    "        print(\"The file is empty.\")\n",
    "    else:\n",
    "        with open(filename, \"r\") as file:\n",
    "            content = file.read()\n",
    "            print(\"File content:\\n\", content)\n",
    "else:\n",
    "    print(f\"File '{filename}' not found.\")\n",
    "\n",
    "\n",
    "# os.path.exists() checks if the file exists.\n",
    "\n",
    "# os.path.getsize() returns file size in bytes. If it’s 0, the file is empty."
   ]
  },
  {
   "cell_type": "code",
   "execution_count": 49,
   "id": "6883e9a0-2d72-40b7-9b94-6fbd8950ef7b",
   "metadata": {},
   "outputs": [
    {
     "name": "stdout",
     "output_type": "stream",
     "text": [
      "Oops! File not found. Error has been logged. : [Errno 2] No such file or directory: 'non_existing_file.txt'\n"
     ]
    }
   ],
   "source": [
    "# Write a Python program that writes to a log file when an error occurs during file handling.\n",
    "\n",
    "import logging\n",
    "\n",
    "# Set up logging\n",
    "logging.basicConfig(\n",
    "    filename=\"file_error.log\",\n",
    "    level=logging.ERROR,\n",
    "    format='%(asctime)s - %(levelname)s - %(message)s'\n",
    ")\n",
    "\n",
    "filename = \"non_existing_file.txt\"\n",
    "\n",
    "try:\n",
    "    with open(filename, \"r\") as file:\n",
    "        content = file.read()\n",
    "        print(content)\n",
    "\n",
    "except FileNotFoundError as e:\n",
    "    logging.error(f\"Error opening file: {e}\")\n",
    "    print(f\"Oops! File not found. Error has been logged. : {e}\")\n"
   ]
  },
  {
   "cell_type": "code",
   "execution_count": 50,
   "id": "a0fde247-017d-4cfd-adb9-c927acc1b3de",
   "metadata": {},
   "outputs": [
    {
     "name": "stdout",
     "output_type": "stream",
     "text": [
      "Deleted: file_error.log\n"
     ]
    }
   ],
   "source": [
    "import os\n",
    "import logging\n",
    "\n",
    "# First, remove and close all handlers\n",
    "for handler in logging.root.handlers[:]:\n",
    "    logging.root.removeHandler(handler)\n",
    "    handler.flush()\n",
    "    handler.close()\n",
    "\n",
    "# Now safely delete log files\n",
    "log_files = [\"file_error.log\"]\n",
    "\n",
    "for file in log_files:\n",
    "    if os.path.exists(file):\n",
    "        os.remove(file)\n",
    "        print(f\"Deleted: {file}\")\n",
    "    else:\n",
    "        print(f\"File not found: {file}\")\n"
   ]
  },
  {
   "cell_type": "markdown",
   "id": "d09e8f78-4af9-4694-8908-b7c263b13979",
   "metadata": {},
   "source": [
    "### Theoretical Questions:"
   ]
  },
  {
   "cell_type": "markdown",
   "id": "a3d7646b-f38c-4457-bea0-67362e8f36be",
   "metadata": {},
   "source": [
    "What is the difference between interpreted and compiled languages?\n",
    "-  Interpreted Languages:\n",
    "\n",
    "Execution Process: Code is translated line-by-line by an interpreter into machine code.\n",
    "\n",
    "Example: Python, JavaScript.\n",
    "\n",
    "Pros:\n",
    "\n",
    "Easier to debug (since it executes line-by-line).\n",
    "\n",
    "More flexible and portable.\n",
    "\n",
    "Cons:\n",
    "\n",
    "Slower execution because it’s interpreted every time it runs.\n",
    "\n",
    "\n",
    "Compiled Languages:\n",
    "\n",
    "Execution Process: Code is fully translated into machine code by a compiler before execution.\n",
    "\n",
    "Example: C, C++.\n",
    "\n",
    "Pros:\n",
    "\n",
    "Faster execution since the code is precompiled.\n",
    "\n",
    "More efficient memory management.\n",
    "\n",
    "Cons:\n",
    "\n",
    "Harder to debug (because the error occurs after full compilation).\n",
    "\n",
    "Requires a separate compilation step before running."
   ]
  },
  {
   "cell_type": "markdown",
   "id": "04a7c542-1dd4-44cc-b22c-adf0794f8858",
   "metadata": {},
   "source": [
    "What is exception handling in Python?\n",
    "- Exception handling in Python is a mechanism that allows us to handle runtime errors (called exceptions) gracefully, without crashing the program.\n",
    "\n",
    "Key Concepts:\n",
    "Exception: An error that occurs during the execution of the program. It can be things like dividing by zero, trying to open a non-existent file, or accessing a dictionary with a non-existing key.\n",
    "\n",
    "Try-Except Block: This is the basic way of handling exceptions."
   ]
  },
  {
   "cell_type": "code",
   "execution_count": null,
   "id": "dd6cc7fb-1daa-4a53-9b9a-7e880d7e97a0",
   "metadata": {},
   "outputs": [],
   "source": [
    "try:\n",
    "    # Code that might raise an exception\n",
    "except SomeException as e:\n",
    "    # Handle the exception"
   ]
  },
  {
   "cell_type": "markdown",
   "id": "4d9142d2-3e04-403c-9a63-f030604c564c",
   "metadata": {},
   "source": [
    "How It Works:\n",
    "\n",
    "try block: We write the code that might cause an error inside this block.\n",
    "\n",
    "except block: If an error occurs, Python jumps to the except block where we can handle the error or print an error message."
   ]
  },
  {
   "cell_type": "code",
   "execution_count": 51,
   "id": "073c0b8e-9cb7-45cd-b555-b762fc16e4fc",
   "metadata": {},
   "outputs": [
    {
     "name": "stdout",
     "output_type": "stream",
     "text": [
      "Can't divide by zero!\n"
     ]
    }
   ],
   "source": [
    "try:\n",
    "    num = 10 / 0  # This will raise a ZeroDivisionError\n",
    "except ZeroDivisionError:\n",
    "    print(\"Can't divide by zero!\")\n"
   ]
  },
  {
   "cell_type": "markdown",
   "id": "16813ab8-5d1a-4136-ae78-d9572e742e5e",
   "metadata": {},
   "source": [
    "What is the purpose of the finally block in exception handling?\n",
    "\n",
    "The finally block in exception handling is used for cleanup actions that must happen regardless of whether an exception occurs or not.\n",
    "\n",
    "It runs no matter what — whether an exception was raised or not.\n",
    "\n",
    "Common use cases: closing files, releasing resources, or cleaning up after an operation."
   ]
  },
  {
   "cell_type": "code",
   "execution_count": 52,
   "id": "f0e9ad0b-1efd-452e-8f8d-ebb7910e41f8",
   "metadata": {},
   "outputs": [
    {
     "name": "stdout",
     "output_type": "stream",
     "text": [
      "Cleanup completed.\n"
     ]
    }
   ],
   "source": [
    "try:\n",
    "    file = open(\"example.txt\", \"r\")\n",
    "    # Code that may raise an exception\n",
    "except FileNotFoundError:\n",
    "    print(\"File not found!\")\n",
    "finally:\n",
    "    file.close()  # Always close the file, whether an error occurred or not\n",
    "    print(\"Cleanup completed.\")"
   ]
  },
  {
   "cell_type": "markdown",
   "id": "5c374139-1e49-46f7-97ee-38e78dca0775",
   "metadata": {},
   "source": [
    "What is logging in Python?\n",
    "\n",
    "Logging in Python is a way to track events that happen during the execution of a program. It allows developers to record information about the program’s behavior, errors, or other important events.\n",
    "\n",
    "Key Points:\n",
    "Logging vs. Print: Unlike print(), which is used for debugging during development, logging is more powerful and can be configured to store logs in files, control the level of detail, and include timestamps.\n",
    "\n",
    "logging Module: Python’s built-in logging module is used to add log messages to the program.\n",
    "\n",
    "Logging Levels (from lowest to highest):\n",
    "DEBUG: Detailed information for diagnosing problems.\n",
    "\n",
    "INFO: General information about the program's flow.\n",
    "\n",
    "WARNING: Something unexpected happened, but the program can still continue.\n",
    "\n",
    "ERROR: An error occurred, but the program can still run.\n",
    "\n",
    "CRITICAL: A very serious error that may cause the program to stop."
   ]
  },
  {
   "cell_type": "code",
   "execution_count": 53,
   "id": "1742d9ac-1fc8-474a-80a6-947cc15be4d0",
   "metadata": {},
   "outputs": [
    {
     "name": "stderr",
     "output_type": "stream",
     "text": [
      "DEBUG:root:This is a debug message.\n",
      "INFO:root:This is an info message.\n",
      "WARNING:root:This is a warning message.\n",
      "ERROR:root:This is an error message.\n",
      "CRITICAL:root:This is a critical message.\n"
     ]
    }
   ],
   "source": [
    "import logging\n",
    "\n",
    "logging.basicConfig(level=logging.DEBUG)\n",
    "\n",
    "logging.debug(\"This is a debug message.\")\n",
    "logging.info(\"This is an info message.\")\n",
    "logging.warning(\"This is a warning message.\")\n",
    "logging.error(\"This is an error message.\")\n",
    "logging.critical(\"This is a critical message.\")"
   ]
  },
  {
   "cell_type": "markdown",
   "id": "610a86b9-9281-4750-8614-0c2cedb203eb",
   "metadata": {},
   "source": [
    "What is the significance of the __del__ method in Python?\n",
    "\n",
    "The __del__ method is a destructor in Python. It is automatically called when an object is about to be destroyed, typically when it goes out of scope or when the program ends. It allows us to define cleanup actions before an object is removed from memory.\n",
    "\n",
    "Key Points:\n",
    "Purpose: Used to release resources (like closing files or network connections) or perform any necessary cleanup.\n",
    "\n",
    "Automatic Invocation: Python's garbage collector calls __del__ when an object’s reference count drops to zero, meaning it's no longer in use."
   ]
  },
  {
   "cell_type": "code",
   "execution_count": 54,
   "id": "70773fd2-467e-41de-ac2d-031f1f280846",
   "metadata": {},
   "outputs": [
    {
     "name": "stdout",
     "output_type": "stream",
     "text": [
      "Sample object created!\n",
      "Sample object is being destroyed.\n"
     ]
    }
   ],
   "source": [
    "class MyClass:\n",
    "    def __init__(self, name):\n",
    "        self.name = name\n",
    "        print(f\"{self.name} object created!\")\n",
    "\n",
    "    def __del__(self):\n",
    "        print(f\"{self.name} object is being destroyed.\")\n",
    "\n",
    "# Create an object\n",
    "obj = MyClass(\"Sample\")\n",
    "\n",
    "# Delete object manually (this triggers __del__)\n",
    "del obj"
   ]
  },
  {
   "cell_type": "markdown",
   "id": "14b444b4-5957-497d-865a-aa74d5f0a79f",
   "metadata": {},
   "source": [
    "What is the difference between import and from ... import in Python?\n",
    "- Difference Between import and from ... import in Python:\n",
    "\n",
    "import Statement:\n",
    "\n",
    "Purpose: Imports the entire module or package.\n",
    "\n",
    "Usage: We refer to the module and access its functions or variables using the module name.\n",
    "\n",
    "from ... import Statement:\n",
    "\n",
    "Purpose: Imports specific functions, classes, or variables from a module directly, so we don’t need to use the module name.\n",
    "\n",
    "Usage: We can access the imported function or variable directly without the module name."
   ]
  },
  {
   "cell_type": "code",
   "execution_count": 55,
   "id": "59bcedc8-3bd6-4a24-8ddf-e16f8338efb1",
   "metadata": {},
   "outputs": [
    {
     "name": "stdout",
     "output_type": "stream",
     "text": [
      "4.0\n"
     ]
    }
   ],
   "source": [
    "import math\n",
    "print(math.sqrt(16))  # Access the sqrt function via the module name\n"
   ]
  },
  {
   "cell_type": "code",
   "execution_count": 56,
   "id": "25df4828-2d70-4ab6-add3-c72952c141c6",
   "metadata": {},
   "outputs": [
    {
     "name": "stdout",
     "output_type": "stream",
     "text": [
      "4.0\n"
     ]
    }
   ],
   "source": [
    "from math import sqrt\n",
    "print(sqrt(16))  # Directly access the sqrt function\n"
   ]
  },
  {
   "cell_type": "markdown",
   "id": "56df0413-8759-4d86-ab1e-be38d3df3d2d",
   "metadata": {},
   "source": [
    "How can you handle multiple exceptions in Python?\n",
    "\n",
    "Multiple except Blocks:\n",
    "Each exception type is handled separately by writing different except blocks for each exception."
   ]
  },
  {
   "cell_type": "code",
   "execution_count": 60,
   "id": "91897a6d-7b6f-4685-8c31-90ba6ab28f73",
   "metadata": {},
   "outputs": [
    {
     "name": "stdin",
     "output_type": "stream",
     "text": [
      "Enter a number:  abc\n"
     ]
    },
    {
     "name": "stdout",
     "output_type": "stream",
     "text": [
      "Invalid input! Please enter a valid number.\n"
     ]
    }
   ],
   "source": [
    "try:\n",
    "    num = int(input(\"Enter a number: \"))\n",
    "    result = 10 / num\n",
    "except ZeroDivisionError:\n",
    "    print(\"Cannot divide by zero!\")\n",
    "except ValueError:\n",
    "    print(\"Invalid input! Please enter a valid number.\")\n",
    "except Exception as e:\n",
    "    print(f\"An unexpected error occurred: {e}\")"
   ]
  },
  {
   "cell_type": "markdown",
   "id": "78fdf326-2346-43f4-9deb-6a2d5dba7233",
   "metadata": {},
   "source": [
    "Handling Multiple Exceptions in a Single except Block (using a tuple):\n",
    "We can catch multiple exceptions in a single except block by grouping them in a tuple."
   ]
  },
  {
   "cell_type": "code",
   "execution_count": 62,
   "id": "fe334e8a-fa34-4632-96d5-b88762629ca3",
   "metadata": {},
   "outputs": [
    {
     "name": "stdin",
     "output_type": "stream",
     "text": [
      "Enter a number:  zzz\n"
     ]
    },
    {
     "name": "stdout",
     "output_type": "stream",
     "text": [
      "Error: invalid literal for int() with base 10: 'zzz'\n"
     ]
    }
   ],
   "source": [
    "try:\n",
    "    num = int(input(\"Enter a number: \"))\n",
    "    result = 10 / num\n",
    "except (ZeroDivisionError, ValueError) as e:\n",
    "    print(f\"Error: {e}\")"
   ]
  },
  {
   "cell_type": "markdown",
   "id": "6303d067-48fd-4f8b-a885-940e36864515",
   "metadata": {},
   "source": [
    "What is the purpose of the with statement when handling files in Python?\n",
    "\n",
    "The with statement in Python is used to simplify resource management and ensure that resources (like files) are properly cleaned up, even if an error occurs. When used with files, it ensures the file is automatically closed after the block of code inside the with statement is executed, without needing an explicit close() method.\n",
    "\n",
    "Key Benefits:\n",
    "Automatic Cleanup: The with statement ensures that the file is closed automatically when the block is exited, even if an error occurs.\n",
    "\n",
    "Simplifies Code: We don't need to manually close the file using file.close().\n",
    "\n",
    "Prevents Resource Leaks: Helps in avoiding potential issues with leaving files open."
   ]
  },
  {
   "cell_type": "code",
   "execution_count": 63,
   "id": "cc77c713-aff0-4cc5-b6f6-df4dc2d9bd73",
   "metadata": {},
   "outputs": [
    {
     "name": "stdout",
     "output_type": "stream",
     "text": [
      "PWSKILLS is awasome\n"
     ]
    }
   ],
   "source": [
    "with open(\"example.txt\", \"r\") as file:\n",
    "    content = file.read()\n",
    "    print(content)\n",
    "# File is automatically closed here, no need for file.close()"
   ]
  },
  {
   "cell_type": "markdown",
   "id": "c41963e2-015e-404a-a63e-7dcdbcab6b2f",
   "metadata": {},
   "source": [
    "What is the difference between multithreading and multiprocessing?\n",
    "\n",
    "Difference Between Multithreading and Multiprocessing:\n",
    "\n",
    "Both multithreading and multiprocessing are techniques used to execute tasks concurrently, but they have distinct differences:\n",
    "\n",
    "Multithreading:\n",
    "\n",
    "Definition: Multithreading involves running multiple threads (smaller units of a process) within a single process.\n",
    "\n",
    "Memory Sharing: Threads share the same memory space (global variables), so data is easily shared between threads.\n",
    "\n",
    "GIL (Global Interpreter Lock): In CPython (Python’s default implementation), only one thread can execute Python bytecode at a time due to the Global Interpreter Lock (GIL), which can limit performance for CPU-bound tasks.\n",
    "\n",
    "Use Case: Best suited for I/O-bound tasks (e.g., file reading, network operations) where tasks spend time waiting on external resources."
   ]
  },
  {
   "cell_type": "code",
   "execution_count": 64,
   "id": "af4eea5d-ce06-4a29-aac4-1123e79b79e4",
   "metadata": {},
   "outputs": [
    {
     "name": "stdout",
     "output_type": "stream",
     "text": [
      "Task running in a thread.\n"
     ]
    }
   ],
   "source": [
    "import threading\n",
    "\n",
    "def task():\n",
    "    print(\"Task running in a thread.\")\n",
    "\n",
    "thread = threading.Thread(target=task)\n",
    "thread.start()  # Start a new thread\n",
    "thread.join()  # Wait for the thread to finish"
   ]
  },
  {
   "cell_type": "markdown",
   "id": "a1910609-8689-4508-8158-fa88e5640f3f",
   "metadata": {},
   "source": [
    "Multiprocessing:\n",
    "\n",
    "Definition: Multiprocessing involves running multiple processes, each with its own memory space.\n",
    "\n",
    "Memory Sharing: Processes do not share memory space, which avoids issues like race conditions but requires inter-process communication (IPC) for sharing data.\n",
    "\n",
    "No GIL Limitation: Since each process has its own Python interpreter, there is no GIL limitation, making it suitable for CPU-bound tasks.\n",
    "\n",
    "Use Case: Ideal for CPU-bound tasks (e.g., mathematical calculations, data processing) that require parallel execution on multiple CPU cores."
   ]
  },
  {
   "cell_type": "code",
   "execution_count": 65,
   "id": "8bc82ee0-5dde-443f-b095-69b3afa89653",
   "metadata": {},
   "outputs": [],
   "source": [
    "import multiprocessing\n",
    "\n",
    "def task():\n",
    "    print(\"Task running in a process.\")\n",
    "\n",
    "process = multiprocessing.Process(target=task)\n",
    "process.start()  # Start a new process\n",
    "process.join()  # Wait for the process to finish"
   ]
  },
  {
   "cell_type": "markdown",
   "id": "4e1177bb-b750-4b46-906f-832757f51227",
   "metadata": {},
   "source": [
    "What are the advantages of using logging in a program?\n",
    "\n",
    "Advantages of Using Logging in a Program:\n",
    "\n",
    "Helps in Debugging:\n",
    "\n",
    "We can track what happened and where things went wrong without stopping the program.\n",
    "\n",
    "Better than Print Statements:\n",
    "\n",
    "Unlike print(), logs can be categorized (INFO, DEBUG, ERROR) and turned off in production easily.\n",
    "\n",
    "Stores History of Events:\n",
    "\n",
    "Logs can be saved to files, giving us a history of application behavior over time.\n",
    "\n",
    "Improves Error Tracking:\n",
    "\n",
    "Logs capture exceptions and error messages clearly, which is helpful for fixing bugs.\n",
    "\n",
    "Customizable Output:\n",
    "\n",
    "We can control the format, level, and destination (file, console, etc.) of logs.\n",
    "\n",
    "Essential in Large Applications:\n",
    "\n",
    "In big projects, logging helps monitor flow, user actions, and system performance."
   ]
  },
  {
   "cell_type": "markdown",
   "id": "7a4eddc6-1af0-4992-83f6-809853513ef7",
   "metadata": {},
   "source": [
    "What is memory management in Python?\n",
    "\n",
    "Memory Management in Python:\n",
    "\n",
    "Memory management in Python is the process of efficiently allocating, using, and freeing memory during a program’s execution. Python handles this automatically for us, so we usually don’t need to manage memory manually.\n",
    "\n",
    "Key Components:\n",
    "Automatic Garbage Collection:\n",
    "\n",
    "Python automatically removes unused objects from memory using a garbage collector.\n",
    "\n",
    "It tracks object references and deletes objects when they are no longer needed.\n",
    "\n",
    "Reference Counting:\n",
    "\n",
    "Each object in Python has a reference count.\n",
    "\n",
    "When the count drops to zero, the memory is released.\n",
    "\n",
    "Private Heap:\n",
    "\n",
    "All Python objects and data structures are stored in a private heap (memory area managed by Python).\n",
    "\n",
    "Memory Pools:\n",
    "\n",
    "Python uses memory pools (especially in CPython) to reduce the overhead of memory allocation.\n",
    "\n",
    "The __del__ Method:\n",
    "\n",
    "We can define this method in a class to specify actions when an object is about to be destroyed."
   ]
  },
  {
   "cell_type": "markdown",
   "id": "919690a7-54c4-4e5e-99ad-47d84a43d07e",
   "metadata": {},
   "source": [
    "What are the basic steps involved in exception handling in Python?\n",
    "\n",
    "Try Block:\n",
    "\n",
    "We put the code that might raise an error inside a try block.\n",
    "\n",
    "Except Block:\n",
    "\n",
    "If an error occurs in the try block, it jumps to the except block where we handle the error.\n",
    "\n",
    "Else Block (Optional):\n",
    "\n",
    "If no error occurs in the try block, the else block runs.\n",
    "\n",
    "Finally Block (Optional):\n",
    "\n",
    "This block runs no matter what—whether an exception occurred or not. It's used for cleanup."
   ]
  },
  {
   "cell_type": "code",
   "execution_count": 66,
   "id": "6016054f-8410-4e3a-b8cd-8005854328d3",
   "metadata": {},
   "outputs": [
    {
     "name": "stdin",
     "output_type": "stream",
     "text": [
      "Enter a number:  l\n"
     ]
    },
    {
     "name": "stdout",
     "output_type": "stream",
     "text": [
      "Invalid input!\n",
      "Program finished.\n"
     ]
    }
   ],
   "source": [
    "try:\n",
    "    num = int(input(\"Enter a number: \"))\n",
    "    result = 10 / num\n",
    "except ZeroDivisionError:\n",
    "    print(\"Can't divide by zero!\")\n",
    "except ValueError:\n",
    "    print(\"Invalid input!\")\n",
    "else:\n",
    "    print(f\"Result is {result}\")\n",
    "finally:\n",
    "    print(\"Program finished.\")"
   ]
  },
  {
   "cell_type": "markdown",
   "id": "be977ee5-0007-4e94-ac1c-f18ed34f8021",
   "metadata": {},
   "source": [
    "Why is memory management important in Python?\n",
    "\n",
    "Efficient Use of Resources:\n",
    "\n",
    "It helps Python programs use system memory wisely so they don’t slow down or crash.\n",
    "\n",
    "Automatic Cleanup:\n",
    "\n",
    "Python's memory manager (including garbage collector) frees up memory when objects are no longer needed, reducing memory leaks.\n",
    "\n",
    "Supports Large Applications:\n",
    "\n",
    "In data analytics or machine learning, we deal with big datasets. Good memory management keeps these programs stable.\n",
    "\n",
    "Avoids Manual Work:\n",
    "\n",
    "Python handles memory allocation and deallocation for us, making coding easier and less error-prone.\n",
    "\n",
    "Improves Performance:\n",
    "\n",
    "Optimized memory usage makes our program run faster and smoother, especially when dealing with loops or large structures."
   ]
  },
  {
   "cell_type": "markdown",
   "id": "b61cae91-8848-43af-ae8d-2544de2fe60f",
   "metadata": {},
   "source": [
    "What is the role of try and except in exception handling?\n",
    "\n",
    "Role of try and except in Exception Handling:\n",
    "try:\n",
    "We use the try block to wrap the code that might cause an error. If everything runs fine, the code inside try executes normally.\n",
    "\n",
    "except:\n",
    "If an error happens inside the try block, Python jumps to the except block. This is where we write how we want to handle that specific error instead of letting the program crash."
   ]
  },
  {
   "cell_type": "code",
   "execution_count": 67,
   "id": "3a07311d-9fbe-44bd-9142-de5f23561c63",
   "metadata": {},
   "outputs": [
    {
     "name": "stdout",
     "output_type": "stream",
     "text": [
      "We can't divide by zero.\n"
     ]
    }
   ],
   "source": [
    "try:\n",
    "    result = 10 / 0\n",
    "except ZeroDivisionError:\n",
    "    print(\"We can't divide by zero.\")"
   ]
  },
  {
   "cell_type": "markdown",
   "id": "f4277bea-7a08-415e-94fb-52bc2f51df01",
   "metadata": {},
   "source": [
    "How does Python's garbage collection system work?\n",
    "\n",
    "Python uses automatic garbage collection to free up memory by removing objects that are no longer needed.\n",
    "\n",
    "Key Parts of the System:\n",
    "Reference Counting:\n",
    "\n",
    "Every object has a reference count (number of variables pointing to it).\n",
    "\n",
    "When the count drops to zero, Python deletes the object."
   ]
  },
  {
   "cell_type": "code",
   "execution_count": 68,
   "id": "670438fd-fa10-4048-9d43-933a64040012",
   "metadata": {},
   "outputs": [],
   "source": [
    "a = [1, 2, 3]\n",
    "b = a\n",
    "del a\n",
    "del b  # Now the list has no references → garbage collected"
   ]
  },
  {
   "cell_type": "markdown",
   "id": "0f455cff-153a-42e8-bfde-404f159cd466",
   "metadata": {},
   "source": [
    "Garbage Collector for Cyclic References:\n",
    "\n",
    "Sometimes objects reference each other in a loop. Reference counting can’t clean them.\n",
    "\n",
    "Python’s garbage collector (GC) detects these cycles and removes them.\n",
    "\n",
    "gc Module:\n",
    "\n",
    "We can control or check garbage collection manually using the gc module."
   ]
  },
  {
   "cell_type": "code",
   "execution_count": 70,
   "id": "9e7fe369-db5e-4f75-a730-4ff33e550151",
   "metadata": {},
   "outputs": [
    {
     "data": {
      "text/plain": [
       "1657"
      ]
     },
     "execution_count": 70,
     "metadata": {},
     "output_type": "execute_result"
    }
   ],
   "source": [
    "import gc\n",
    "gc.collect()  # Manually triggers garbage collection\n"
   ]
  },
  {
   "cell_type": "markdown",
   "id": "bc002ed1-b25a-422c-a8c7-728018c48020",
   "metadata": {},
   "source": [
    "Python’s garbage collection mainly relies on reference counting, and a built-in garbage collector handles tricky cases like cyclic references to keep memory clean and optimized."
   ]
  },
  {
   "cell_type": "markdown",
   "id": "080fbdd0-da2c-4834-991f-3a50dba45638",
   "metadata": {},
   "source": [
    "What is the purpose of the else block in exception handling?\n",
    "\n",
    "Purpose of the else Block in Exception Handling:\n",
    "The else block runs only if no exception occurs in the try block.\n",
    "\n",
    "Why Use It:\n",
    "It separates error-free code from error-handling code, which makes the logic cleaner.\n",
    "\n",
    "Helps us avoid writing success code inside the try, keeping it focused on risky operations only."
   ]
  },
  {
   "cell_type": "code",
   "execution_count": 73,
   "id": "bc7d3823-2115-4569-b6a4-88553dedbaa5",
   "metadata": {},
   "outputs": [
    {
     "name": "stdin",
     "output_type": "stream",
     "text": [
      "Enter a number:  h\n"
     ]
    },
    {
     "name": "stdout",
     "output_type": "stream",
     "text": [
      "Invalid number!\n"
     ]
    }
   ],
   "source": [
    "try:\n",
    "    num = int(input(\"Enter a number: \"))\n",
    "except ValueError:\n",
    "    print(\"Invalid number!\")\n",
    "else:\n",
    "    print(f\"You entered: {num}\")"
   ]
  },
  {
   "cell_type": "markdown",
   "id": "45911292-635d-428d-8b7a-9bed71fc46b8",
   "metadata": {},
   "source": [
    "What are the common logging levels in Python?\n",
    "\n",
    "Common Logging Levels in Python (from lowest to highest):\n",
    "DEBUG\n",
    "\n",
    "Used for detailed information, mainly for diagnosing problems.\n",
    "\n",
    "Example: logging.debug(\"This is a debug message.\")\n",
    "\n",
    "INFO\n",
    "\n",
    "Confirms that things are working as expected.\n",
    "\n",
    "Example: logging.info(\"Application started.\")\n",
    "\n",
    "WARNING\n",
    "\n",
    "Indicates something unexpected happened, but the program is still running.\n",
    "\n",
    "Example: logging.warning(\"Low disk space.\")\n",
    "\n",
    "ERROR\n",
    "\n",
    "A serious issue; something went wrong.\n",
    "\n",
    "Example: logging.error(\"File not found.\")\n",
    "\n",
    "CRITICAL\n",
    "\n",
    "A very serious error; the program may not be able to continue.\n",
    "\n",
    "Example: logging.critical(\"System crash!\")"
   ]
  },
  {
   "cell_type": "markdown",
   "id": "d35d5f46-2069-4250-bb16-f3dc122e8203",
   "metadata": {},
   "source": [
    " What is the difference between os.fork() and multiprocessing in Python?\n",
    "\n",
    " os.fork() and the multiprocessing module in Python are both used to create separate processes, but they differ significantly in how they work and where they are used. os.fork() is a low-level function available only on Unix-like systems (Linux, macOS) and directly creates a child process by duplicating the current process. It's powerful but can be tricky to use, especially when it comes to communication between processes and managing errors. On the other hand, the multiprocessing module is a high-level, cross-platform solution that works on Windows, Linux, and macOS. It provides an easier and safer way to create and manage multiple processes using familiar Python syntax, like creating processes from functions. It also offers built-in features for process communication, synchronization, and memory sharing. For most real-world applications, especially in data analytics, we prefer using multiprocessing because it's more flexible, readable, and portable across systems."
   ]
  },
  {
   "cell_type": "markdown",
   "id": "ad6a0208-36d7-4ae9-a106-4f931a4d121a",
   "metadata": {},
   "source": [
    "What is the importance of closing a file in Python?\n",
    "\n",
    "Closing a file in Python is important for several reasons:\n",
    "\n",
    "Releasing Resources:\n",
    "\n",
    "When we open a file, the operating system allocates resources (memory and file descriptors). Closing the file releases these resources, preventing memory leaks and freeing up system resources.\n",
    "\n",
    "Ensuring Data Integrity:\n",
    "\n",
    "Files may have buffered data that isn't written to disk immediately. Closing the file ensures that all the data is flushed from the buffer and properly written to the file, avoiding data loss.\n",
    "\n",
    "Preventing File Corruption:\n",
    "\n",
    "If we don't close a file after writing to it, it may lead to corruption, especially in the case of large files or files being accessed by multiple processes.\n",
    "\n",
    "Allowing Reuse:\n",
    "\n",
    "Some operating systems limit the number of files that can be open at the same time. Closing files when done allows us to open new ones without hitting system limits."
   ]
  },
  {
   "cell_type": "markdown",
   "id": "3f105f07-3f16-422b-98e2-d312f89113d3",
   "metadata": {},
   "source": [
    "What is the difference between file.read() and file.readline() in Python?\n",
    "\n",
    "Difference Between file.read() and file.readline() in Python:\n",
    "file.read():\n",
    "\n",
    "Reads the entire file at once and returns it as a single string.\n",
    "\n",
    "Useful when you need the entire content of the file in memory for processing."
   ]
  },
  {
   "cell_type": "code",
   "execution_count": 74,
   "id": "c5d7bcb3-4482-449f-b6f3-79a472fb46d6",
   "metadata": {},
   "outputs": [
    {
     "name": "stdout",
     "output_type": "stream",
     "text": [
      "PWSKILLS is awasome\n",
      "I will become a data analyst.\n"
     ]
    }
   ],
   "source": [
    "with open(\"example.txt\", \"r\") as file:\n",
    "    content = file.read()\n",
    "    print(content)"
   ]
  },
  {
   "cell_type": "markdown",
   "id": "e579a71e-f68c-41c4-bad9-891c975c8d65",
   "metadata": {},
   "source": [
    "file.readline():\n",
    "\n",
    "Reads one line at a time from the file.\n",
    "\n",
    "Useful when you want to process large files line by line without loading the whole file into memory.\n",
    "\n",
    "It returns a string containing the current line and includes the newline character (\\n) at the end."
   ]
  },
  {
   "cell_type": "code",
   "execution_count": 75,
   "id": "0b61b4b7-4a1b-430f-aaec-e118728fdc1e",
   "metadata": {},
   "outputs": [
    {
     "name": "stdout",
     "output_type": "stream",
     "text": [
      "PWSKILLS is awasome\n",
      "\n"
     ]
    }
   ],
   "source": [
    "with open(\"example.txt\", \"r\") as file:\n",
    "    line = file.readline()\n",
    "    print(line)"
   ]
  },
  {
   "cell_type": "markdown",
   "id": "e86acb86-641c-4fb4-97c1-ae995c484ebc",
   "metadata": {},
   "source": [
    "What is the logging module in Python used for?\n",
    "\n",
    "The logging module in Python is used to track and record events, errors, warnings, and other significant activities in a program. It provides a flexible framework for adding logging functionality to applications, helping developers debug, monitor, and maintain their code more effectively.\n",
    "\n",
    "Key Purposes of the Logging Module:\n",
    "\n",
    "Error Tracking:\n",
    "\n",
    "Logs errors, exceptions, and critical failures, which helps in troubleshooting issues when the program is running in production.\n",
    "\n",
    "Informational Logs:\n",
    "\n",
    "Logs general information such as the start and end of processes, which can be useful for tracking the flow of a program.\n",
    "\n",
    "Log Levels:\n",
    "\n",
    "It supports different log levels like DEBUG, INFO, WARNING, ERROR, and CRITICAL, allowing developers to control the verbosity of the logs.\n",
    "\n",
    "Persistence:\n",
    "\n",
    "Logs can be saved to files, databases, or external systems, which allows tracking and analysis over time.\n",
    "\n",
    "Customizable:\n",
    "\n",
    "The logging module provides customization options for log format, log destinations (like consoles or files), and log levels.\n",
    "\n",
    "Non-Intrusive:\n",
    "\n",
    "It allows logging without interrupting the program's flow, making it ideal for production systems where you need to capture events without affecting performance."
   ]
  },
  {
   "cell_type": "markdown",
   "id": "2af0466f-9b80-4437-9eab-3899cdc74c52",
   "metadata": {},
   "source": [
    "What is the os module in Python used for in file handling?\n",
    "\n",
    "Key Uses of the os Module in File Handling:\n",
    "Working with File Paths:\n",
    "\n",
    "os.path submodule helps manipulate file paths, handle directory separators, and ensure compatibility across different operating systems.\n",
    "\n",
    "Functions like os.path.join(), os.path.exists(), and os.path.basename() are used to manage file paths easily."
   ]
  },
  {
   "cell_type": "code",
   "execution_count": 76,
   "id": "44ffc6ae-817a-4188-9763-4a2a62965f38",
   "metadata": {},
   "outputs": [],
   "source": [
    "import os\n",
    "path = os.path.join(\"folder\", \"file.txt\")"
   ]
  },
  {
   "cell_type": "markdown",
   "id": "4a8a8d5d-2bed-4df0-a09f-ad21edb468ae",
   "metadata": {},
   "source": [
    "Creating, Deleting, and Renaming Files/Directories:\n",
    "\n",
    "os.mkdir() creates directories, os.remove() deletes files, and os.rename() renames files or directories."
   ]
  },
  {
   "cell_type": "code",
   "execution_count": 77,
   "id": "56252bd9-fdc7-4cf1-b4fc-f412ec04016e",
   "metadata": {},
   "outputs": [
    {
     "ename": "FileNotFoundError",
     "evalue": "[WinError 2] The system cannot find the file specified: 'file.txt'",
     "output_type": "error",
     "traceback": [
      "\u001b[31m---------------------------------------------------------------------------\u001b[39m",
      "\u001b[31mFileNotFoundError\u001b[39m                         Traceback (most recent call last)",
      "\u001b[36mCell\u001b[39m\u001b[36m \u001b[39m\u001b[32mIn[77]\u001b[39m\u001b[32m, line 2\u001b[39m\n\u001b[32m      1\u001b[39m os.mkdir(\u001b[33m\"\u001b[39m\u001b[33mnew_directory\u001b[39m\u001b[33m\"\u001b[39m)   \u001b[38;5;66;03m# Creates a new directory\u001b[39;00m\n\u001b[32m----> \u001b[39m\u001b[32m2\u001b[39m \u001b[43mos\u001b[49m\u001b[43m.\u001b[49m\u001b[43mremove\u001b[49m\u001b[43m(\u001b[49m\u001b[33;43m\"\u001b[39;49m\u001b[33;43mfile.txt\u001b[39;49m\u001b[33;43m\"\u001b[39;49m\u001b[43m)\u001b[49m      \u001b[38;5;66;03m# Removes a file\u001b[39;00m\n",
      "\u001b[31mFileNotFoundError\u001b[39m: [WinError 2] The system cannot find the file specified: 'file.txt'"
     ]
    }
   ],
   "source": [
    "os.mkdir(\"new_directory\")   # Creates a new directory\n",
    "os.remove(\"file.txt\")      # Removes a file"
   ]
  },
  {
   "cell_type": "markdown",
   "id": "cfbbb9f5-8729-4c75-a03d-be8d2040cf25",
   "metadata": {},
   "source": [
    "Checking File or Directory Existence:\n",
    "\n",
    "os.path.exists() checks if a file or directory exists."
   ]
  },
  {
   "cell_type": "code",
   "execution_count": 78,
   "id": "42ee2473-104f-4ee5-96d5-4caa25d5c3ef",
   "metadata": {},
   "outputs": [],
   "source": [
    "if os.path.exists(\"file.txt\"):\n",
    "    print(\"File exists\")"
   ]
  },
  {
   "cell_type": "markdown",
   "id": "8272efa2-0af7-43cd-b6ea-275d53f7489d",
   "metadata": {},
   "source": [
    "Changing the Working Directory:\n",
    "\n",
    "os.chdir() changes the current working directory, allowing us to navigate between different folders."
   ]
  },
  {
   "cell_type": "code",
   "execution_count": null,
   "id": "b4a00b31-ab1f-49d8-b54b-c46334623dc9",
   "metadata": {},
   "outputs": [],
   "source": [
    "os.chdir(\"/path/to/directory\")"
   ]
  },
  {
   "cell_type": "markdown",
   "id": "97be6d97-c2ac-44a0-893a-26349ca3746a",
   "metadata": {},
   "source": [
    "Listing Files in a Directory:\n",
    "\n",
    "os.listdir() lists all files and directories in a specified directory."
   ]
  },
  {
   "cell_type": "code",
   "execution_count": 79,
   "id": "b0136f83-e2aa-45a0-9982-23565120bfd4",
   "metadata": {},
   "outputs": [
    {
     "name": "stdout",
     "output_type": "stream",
     "text": [
      "['.ipynb_checkpoints', '1', 'anaconda_projects', 'app.log', 'Assignments', 'Basic_Calculator&string_functions.ipynb', 'CSV.ipynb', 'DA.txt', 'data.txt', 'dataset.txt', 'Details.csv', 'Details.json', 'EMI Calculator.ipynb', 'error.log', 'example.txt', 'Exception_handling.ipynb', 'Files, exceptional handling,  logging and memory  management_Assigment.ipynb', 'File_handling_BASIC.ipynb', 'Functions.ipynb', 'If statements.ipynb', 'Inheritance.ipynb', 'Life.txt', 'List_comprehention.ipynb', 'Logging&Debugging.ipynb', 'loops.ipynb', 'new_directory', 'numbers.txt', 'OOPS.ipynb', 'Polymorphism&Encapsulation.ipynb', 'Queastion&Answer_Function_Assignment.jpg', 'Strings.ipynb', 'Test', 'Test.log', 'Tuples&Sets.ipynb', 'year.txt']\n"
     ]
    }
   ],
   "source": [
    "files = os.listdir(\".\")\n",
    "print(files)"
   ]
  },
  {
   "cell_type": "markdown",
   "id": "88697101-45ec-4695-b10c-fa8983960394",
   "metadata": {},
   "source": [
    "Access Permissions:\n",
    "\n",
    "os.access() checks if a file has specific permissions like read, write, or execute."
   ]
  },
  {
   "cell_type": "code",
   "execution_count": 80,
   "id": "a74c1ee6-2f13-479d-8519-c5d47c675578",
   "metadata": {},
   "outputs": [],
   "source": [
    "if os.access(\"file.txt\", os.R_OK):\n",
    "    print(\"File is readable\")"
   ]
  },
  {
   "cell_type": "markdown",
   "id": "65737af1-59b1-40bf-ba9a-f12539af6707",
   "metadata": {},
   "source": [
    "What are the challenges associated with memory management in Python?\n",
    "\n",
    "Memory management in Python involves challenges such as reference counting, garbage collection issues, memory fragmentation, and potential memory leaks. While Python abstracts much of this away, developers must still be aware of these issues, especially when working with large datasets or long-running applications. Using tools like the gc module and optimizing data structures can help mitigate some of these challenges."
   ]
  },
  {
   "cell_type": "markdown",
   "id": "a3b8cacb-0846-4f3c-8ce4-4977ae90d9d7",
   "metadata": {},
   "source": [
    "How do you raise an exception manually in Python?\n",
    "\n",
    "Explanation:\n",
    "CustomError: A custom exception is created by subclassing the Exception class.\n",
    "\n",
    "check_value(): A function that raises either a CustomError or a ValueError depending on the input value.\n",
    "\n",
    "try-except: The exceptions are caught in a try-except block. If the value is less than 10, CustomError is raised; if it's greater than 100, a ValueError is raised. Any other errors will be caught by the generic Exception.\n",
    "\n",
    "This example shows how to raise both built-in and custom exceptions manually and handle them using a try-except block."
   ]
  },
  {
   "cell_type": "code",
   "execution_count": 82,
   "id": "01f8bae9-ac9e-4200-9644-a8a838e1263e",
   "metadata": {},
   "outputs": [
    {
     "name": "stdout",
     "output_type": "stream",
     "text": [
      "Caught a custom error: Value cannot be less than 10.\n"
     ]
    }
   ],
   "source": [
    "# Define a custom exception\n",
    "class CustomError(Exception):\n",
    "    pass\n",
    "\n",
    "# Function that raises an exception manually based on certain conditions\n",
    "def check_value(value):\n",
    "    if value < 10:\n",
    "        raise CustomError(\"Value cannot be less than 10.\")\n",
    "    elif value > 100:\n",
    "        raise ValueError(\"Value cannot be greater than 100.\")\n",
    "    else:\n",
    "        print(f\"Value {value} is valid.\")\n",
    "\n",
    "# Try-except block to handle exceptions\n",
    "try:\n",
    "    check_value(5)  # Try with a value that triggers CustomError\n",
    "except CustomError as ce:\n",
    "    print(f\"Caught a custom error: {ce}\")\n",
    "except ValueError as ve:\n",
    "    print(f\"Caught a value error: {ve}\")\n",
    "except Exception as e:\n",
    "    print(f\"Caught an unexpected error: {e}\")"
   ]
  },
  {
   "cell_type": "markdown",
   "id": "aaef37a1-5f81-4d9e-8314-621b767ed120",
   "metadata": {},
   "source": [
    "Why is it important to use multithreading in certain applications?\n",
    "\n",
    "Multithreading is important in certain applications for several reasons, as it allows a program to perform multiple tasks concurrently, improving performance, responsiveness, and resource utilization.\n",
    "\n",
    "Key Benefits of Using Multithreading:\n",
    "Improved Responsiveness:\n",
    "\n",
    "In applications with user interfaces (UI), multithreading helps keep the UI responsive. For instance, while the program performs time-consuming tasks (like downloading data or processing large files) in the background, the UI can still respond to user input, ensuring the application doesn't freeze or become unresponsive.\n",
    "\n",
    "Better CPU Utilization:\n",
    "\n",
    "On multi-core processors, multithreading enables tasks to run in parallel across different cores, which can speed up execution and reduce the time required to complete tasks. It makes better use of the available CPU resources.\n",
    "\n",
    "Concurrency:\n",
    "\n",
    "Multithreading allows multiple tasks to run concurrently. For example, if you are performing I/O-bound tasks (like reading from a disk or waiting for a network response), other threads can continue working while waiting for these tasks to finish, reducing idle time.\n",
    "\n",
    "Simplified Code for Concurrent Tasks:\n",
    "\n",
    "Without multithreading, you would need to manage concurrency using complex methods such as callback functions, event loops, or manual synchronization. With multithreading, you can write simpler, more readable code for concurrent operations, making the code easier to maintain.\n",
    "\n",
    "Efficient Resource Sharing:\n",
    "\n",
    "Threads within the same process share memory space, which makes it easier to share data between them compared to processes that require inter-process communication (IPC). This leads to less overhead in memory usage and data sharing.\n",
    "\n",
    "Real-time Applications:\n",
    "\n",
    "In real-time systems, multithreading allows for time-sensitive tasks to be handled in parallel. For instance, a server handling multiple client requests concurrently or a system monitoring sensor data in real time benefits from multithreading.\n",
    "\n",
    "Parallelizing Independent Tasks:\n",
    "\n",
    "In applications that perform many independent tasks (such as in scientific simulations, data processing, or image processing), multithreading allows you to parallelize these tasks, speeding up the overall processing time by distributing them across multiple threads."
   ]
  },
  {
   "cell_type": "code",
   "execution_count": null,
   "id": "2bf62ab9-f1f4-40a8-999e-bea58f7b3d94",
   "metadata": {},
   "outputs": [],
   "source": []
  }
 ],
 "metadata": {
  "kernelspec": {
   "display_name": "Python 3 (ipykernel)",
   "language": "python",
   "name": "python3"
  },
  "language_info": {
   "codemirror_mode": {
    "name": "ipython",
    "version": 3
   },
   "file_extension": ".py",
   "mimetype": "text/x-python",
   "name": "python",
   "nbconvert_exporter": "python",
   "pygments_lexer": "ipython3",
   "version": "3.13.3"
  }
 },
 "nbformat": 4,
 "nbformat_minor": 5
}
